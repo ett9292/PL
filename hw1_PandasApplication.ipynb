{
 "cells": [
  {
   "cell_type": "markdown",
   "metadata": {},
   "source": [
    "# **偏鄉中小學資料分析** (PL hw1-Pandas)\n",
    "41171103H 吳宜庭"
   ]
  },
  {
   "cell_type": "markdown",
   "metadata": {},
   "source": [
    "## 讀取資料/套件使用"
   ]
  },
  {
   "cell_type": "code",
   "execution_count": null,
   "metadata": {},
   "outputs": [],
   "source": [
    "import pandas as pd\n",
    "import numpy as np\n",
    "import random\n",
    "import matplotlib.pyplot as plt\n",
    "\n",
    "plt.rc('font', family='Microsoft JhengHei') #讓plt可以顯示中文\n",
    "\n",
    "from google.colab import files\n",
    "uploaded = files.upload()\n",
    "\n",
    "#指令 !rm /content/fileX.csv 可以刪除某路徑下的檔案(colab這裡的路徑是 /content )\n",
    "#指令 !rm /content/*.csv 可以刪除路徑下的所有檔案\n",
    "#指令 !pwd 可以看當前路徑"
   ]
  },
  {
   "cell_type": "code",
   "execution_count": null,
   "metadata": {},
   "outputs": [],
   "source": [
    "df = pd.read_csv('111年偏鄉學校.csv', encoding='big5')\n",
    "df.head()"
   ]
  },
  {
   "cell_type": "markdown",
   "metadata": {},
   "source": [
    "## Q1: 偏鄉學校分為哪些地區屬性? 分別有多少所國中小? "
   ]
  },
  {
   "cell_type": "code",
   "execution_count": null,
   "metadata": {},
   "outputs": [],
   "source": [
    "count = df['地區屬性'].value_counts()\n",
    "type_list = list(df['地區屬性'].unique())\n",
    "type_list.pop() #刪除list最後一筆資料(該值為 nan )\n",
    "\n",
    "print(\"經資料查找發現，台灣偏鄉學校地區屬性共分為: \",end =\"\")\n",
    "for i in type_list:\n",
    "  print(f\"「{i}」\", end=\" \")\n",
    "print(f\"\\n\\n而本資料集總共收集了 {len(set(df['學校代碼']))} 所學校，其中各類別相應學校數分別為： \")\n",
    "for i in type_list:\n",
    "  print(f\"{i} : {count[i]} 所\")\n",
    "#    print(f\"{count[i]} 所有招收{i[2:]}\")"
   ]
  }
 ],
 "metadata": {
  "language_info": {
   "name": "python"
  }
 },
 "nbformat": 4,
 "nbformat_minor": 2
}
