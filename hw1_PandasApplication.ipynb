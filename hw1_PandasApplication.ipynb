{
 "cells": [
  {
   "cell_type": "markdown",
   "metadata": {},
   "source": [
    "#偏鄉中小學資料分析 (PL hw1-Pandas)\n",
    "41171103H 吳宜庭"
   ]
  },
  {
   "cell_type": "markdown",
   "metadata": {},
   "source": [
    "##讀取資料/套件使用"
   ]
  },
  {
   "cell_type": "code",
   "execution_count": null,
   "metadata": {},
   "outputs": [],
   "source": [
    "import pandas as pd\n",
    "import random\n",
    "import matplotlib.pyplot as plt\n",
    "\n",
    "plt.rc('font', family='Microsoft JhengHei') #讓plt可以顯示中文\n",
    "data = pd.read_csv('111年偏鄉學校.csv',encoding='utf-8') #讀取資料集檔案"
   ]
  }
 ],
 "metadata": {
  "language_info": {
   "name": "python"
  }
 },
 "nbformat": 4,
 "nbformat_minor": 2
}
